{
  "nbformat": 4,
  "nbformat_minor": 0,
  "metadata": {
    "colab": {
      "name": "Final_Assignment_C0780361.ipynb",
      "provenance": [],
      "collapsed_sections": []
    },
    "kernelspec": {
      "name": "python3",
      "display_name": "Python 3"
    },
    "language_info": {
      "name": "python"
    }
  },
  "cells": [
    {
      "cell_type": "markdown",
      "metadata": {
        "id": "1AfxPNH6fh9W"
      },
      "source": [
        " VISUALIZATION FOR AI AND ML Final Assignment\n",
        "\n",
        " Name: Harshvardhan Chauhan\n",
        " \n",
        " Student Id: C0780361"
      ]
    },
    {
      "cell_type": "code",
      "metadata": {
        "id": "goDa65ZnHLk5"
      },
      "source": [
        "import pandas as pd\n",
        "import numpy as np\n",
        "import matplotlib.pyplot as plt"
      ],
      "execution_count": null,
      "outputs": []
    },
    {
      "cell_type": "code",
      "metadata": {
        "colab": {
          "resources": {
            "http://localhost:8080/nbextensions/google.colab/files.js": {
              "data": "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",
              "ok": true,
              "headers": [
                [
                  "content-type",
                  "application/javascript"
                ]
              ],
              "status": 200,
              "status_text": ""
            }
          },
          "base_uri": "https://localhost:8080/",
          "height": 72
        },
        "id": "8uYBCobEHXyS",
        "outputId": "8f53534e-7ebb-40e9-d58e-87d995062511"
      },
      "source": [
        "from google.colab import files\n",
        "upload = files.upload()"
      ],
      "execution_count": null,
      "outputs": [
        {
          "output_type": "display_data",
          "data": {
            "text/html": [
              "\n",
              "     <input type=\"file\" id=\"files-d9c9b900-ca7c-40cc-8d3c-18e9700ee4b5\" name=\"files[]\" multiple disabled\n",
              "        style=\"border:none\" />\n",
              "     <output id=\"result-d9c9b900-ca7c-40cc-8d3c-18e9700ee4b5\">\n",
              "      Upload widget is only available when the cell has been executed in the\n",
              "      current browser session. Please rerun this cell to enable.\n",
              "      </output>\n",
              "      <script src=\"/nbextensions/google.colab/files.js\"></script> "
            ],
            "text/plain": [
              "<IPython.core.display.HTML object>"
            ]
          },
          "metadata": {
            "tags": []
          }
        },
        {
          "output_type": "stream",
          "text": [
            "Saving Bitcoin.csv to Bitcoin (6).csv\n"
          ],
          "name": "stdout"
        }
      ]
    },
    {
      "cell_type": "code",
      "metadata": {
        "id": "79F0HX72HqEY"
      },
      "source": [
        "df = pd.read_csv('Bitcoin.csv')\n",
        "df_prophet = pd.read_csv('Bitcoin.csv')\n",
        "df_prophet.rename(columns={'Date': 'ds', 'Price': 'y'}, inplace=True)\n",
        "df_prophet['y'] = pd.to_numeric(df_prophet['y'].str.replace(\",\", \"\"), errors='coerce')"
      ],
      "execution_count": null,
      "outputs": []
    },
    {
      "cell_type": "code",
      "metadata": {
        "colab": {
          "base_uri": "https://localhost:8080/",
          "height": 204
        },
        "id": "3pyL4yBGH7_q",
        "outputId": "872ff06f-fb14-4785-9c8a-0b7fa74a98d8"
      },
      "source": [
        "df.head()"
      ],
      "execution_count": null,
      "outputs": [
        {
          "output_type": "execute_result",
          "data": {
            "text/html": [
              "<div>\n",
              "<style scoped>\n",
              "    .dataframe tbody tr th:only-of-type {\n",
              "        vertical-align: middle;\n",
              "    }\n",
              "\n",
              "    .dataframe tbody tr th {\n",
              "        vertical-align: top;\n",
              "    }\n",
              "\n",
              "    .dataframe thead th {\n",
              "        text-align: right;\n",
              "    }\n",
              "</style>\n",
              "<table border=\"1\" class=\"dataframe\">\n",
              "  <thead>\n",
              "    <tr style=\"text-align: right;\">\n",
              "      <th></th>\n",
              "      <th>Date</th>\n",
              "      <th>Price</th>\n",
              "    </tr>\n",
              "  </thead>\n",
              "  <tbody>\n",
              "    <tr>\n",
              "      <th>0</th>\n",
              "      <td>12-Mar-20</td>\n",
              "      <td>4,826.00</td>\n",
              "    </tr>\n",
              "    <tr>\n",
              "      <th>1</th>\n",
              "      <td>13-Mar-20</td>\n",
              "      <td>5,584.30</td>\n",
              "    </tr>\n",
              "    <tr>\n",
              "      <th>2</th>\n",
              "      <td>14-Mar-20</td>\n",
              "      <td>5,182.70</td>\n",
              "    </tr>\n",
              "    <tr>\n",
              "      <th>3</th>\n",
              "      <td>15-Mar-20</td>\n",
              "      <td>5,366.30</td>\n",
              "    </tr>\n",
              "    <tr>\n",
              "      <th>4</th>\n",
              "      <td>16-Mar-20</td>\n",
              "      <td>5,030.00</td>\n",
              "    </tr>\n",
              "  </tbody>\n",
              "</table>\n",
              "</div>"
            ],
            "text/plain": [
              "        Date     Price\n",
              "0  12-Mar-20  4,826.00\n",
              "1  13-Mar-20  5,584.30\n",
              "2  14-Mar-20  5,182.70\n",
              "3  15-Mar-20  5,366.30\n",
              "4  16-Mar-20  5,030.00"
            ]
          },
          "metadata": {
            "tags": []
          },
          "execution_count": 4
        }
      ]
    },
    {
      "cell_type": "markdown",
      "metadata": {
        "id": "9gzT8h15hvbv"
      },
      "source": [
        "Tried Facebook Prophet to predict Bitcoin Price"
      ]
    },
    {
      "cell_type": "code",
      "metadata": {
        "colab": {
          "base_uri": "https://localhost:8080/"
        },
        "id": "BF0K2TqtbG00",
        "outputId": "9d7d2b49-68cd-4736-bcf0-a4d7261a0f29"
      },
      "source": [
        "from fbprophet import Prophet\n",
        "prophet = Prophet()\n",
        "prophet.fit(df_prophet)"
      ],
      "execution_count": null,
      "outputs": [
        {
          "output_type": "stream",
          "text": [
            "INFO:numexpr.utils:NumExpr defaulting to 2 threads.\n",
            "INFO:fbprophet:Disabling yearly seasonality. Run prophet with yearly_seasonality=True to override this.\n",
            "INFO:fbprophet:Disabling daily seasonality. Run prophet with daily_seasonality=True to override this.\n"
          ],
          "name": "stderr"
        },
        {
          "output_type": "execute_result",
          "data": {
            "text/plain": [
              "<fbprophet.forecaster.Prophet at 0x7f4769235510>"
            ]
          },
          "metadata": {
            "tags": []
          },
          "execution_count": 5
        }
      ]
    },
    {
      "cell_type": "code",
      "metadata": {
        "colab": {
          "base_uri": "https://localhost:8080/"
        },
        "id": "fqj_Nc8eb75P",
        "outputId": "ba2091cd-fb08-4ba8-853f-dc5152f2f086"
      },
      "source": [
        "future = prophet.make_future_dataframe(periods=365)\n",
        "print(future)"
      ],
      "execution_count": null,
      "outputs": [
        {
          "output_type": "stream",
          "text": [
            "            ds\n",
            "0   2020-03-12\n",
            "1   2020-03-13\n",
            "2   2020-03-14\n",
            "3   2020-03-15\n",
            "4   2020-03-16\n",
            "..         ...\n",
            "750 2022-04-01\n",
            "751 2022-04-02\n",
            "752 2022-04-03\n",
            "753 2022-04-04\n",
            "754 2022-04-05\n",
            "\n",
            "[755 rows x 1 columns]\n"
          ],
          "name": "stdout"
        }
      ]
    },
    {
      "cell_type": "code",
      "metadata": {
        "colab": {
          "base_uri": "https://localhost:8080/",
          "height": 204
        },
        "id": "AXvfparXcCoD",
        "outputId": "447681db-597b-46b4-aac4-e49b87d09558"
      },
      "source": [
        "forecast = prophet.predict(future)\n",
        "forecast[[\"ds\", \"yhat\"]].tail()"
      ],
      "execution_count": null,
      "outputs": [
        {
          "output_type": "execute_result",
          "data": {
            "text/html": [
              "<div>\n",
              "<style scoped>\n",
              "    .dataframe tbody tr th:only-of-type {\n",
              "        vertical-align: middle;\n",
              "    }\n",
              "\n",
              "    .dataframe tbody tr th {\n",
              "        vertical-align: top;\n",
              "    }\n",
              "\n",
              "    .dataframe thead th {\n",
              "        text-align: right;\n",
              "    }\n",
              "</style>\n",
              "<table border=\"1\" class=\"dataframe\">\n",
              "  <thead>\n",
              "    <tr style=\"text-align: right;\">\n",
              "      <th></th>\n",
              "      <th>ds</th>\n",
              "      <th>yhat</th>\n",
              "    </tr>\n",
              "  </thead>\n",
              "  <tbody>\n",
              "    <tr>\n",
              "      <th>750</th>\n",
              "      <td>2022-04-01</td>\n",
              "      <td>187183.764044</td>\n",
              "    </tr>\n",
              "    <tr>\n",
              "      <th>751</th>\n",
              "      <td>2022-04-02</td>\n",
              "      <td>187546.894452</td>\n",
              "    </tr>\n",
              "    <tr>\n",
              "      <th>752</th>\n",
              "      <td>2022-04-03</td>\n",
              "      <td>187721.470677</td>\n",
              "    </tr>\n",
              "    <tr>\n",
              "      <th>753</th>\n",
              "      <td>2022-04-04</td>\n",
              "      <td>188096.288859</td>\n",
              "    </tr>\n",
              "    <tr>\n",
              "      <th>754</th>\n",
              "      <td>2022-04-05</td>\n",
              "      <td>188421.458671</td>\n",
              "    </tr>\n",
              "  </tbody>\n",
              "</table>\n",
              "</div>"
            ],
            "text/plain": [
              "            ds           yhat\n",
              "750 2022-04-01  187183.764044\n",
              "751 2022-04-02  187546.894452\n",
              "752 2022-04-03  187721.470677\n",
              "753 2022-04-04  188096.288859\n",
              "754 2022-04-05  188421.458671"
            ]
          },
          "metadata": {
            "tags": []
          },
          "execution_count": 7
        }
      ]
    },
    {
      "cell_type": "code",
      "metadata": {
        "colab": {
          "base_uri": "https://localhost:8080/",
          "height": 721
        },
        "id": "a0Mce6XRcLyD",
        "outputId": "4cee1842-5657-42a4-e78a-1c3f2a677d07"
      },
      "source": [
        "from fbprophet.plot import plot\n",
        "prophet.plot(forecast, figsize=(7, 5))"
      ],
      "execution_count": null,
      "outputs": [
        {
          "output_type": "execute_result",
          "data": {
            "image/png": "[encoded data removed]",
            "text/plain": [
              "<Figure size 504x360 with 1 Axes>"
            ]
          },
          "metadata": {
            "tags": []
          },
          "execution_count": 8
        },
        {
          "output_type": "display_data",
          "data": {
            "image/png": "[encoded data removed]",
            "text/plain": [
              "<Figure size 504x360 with 1 Axes>"
            ]
          },
          "metadata": {
            "tags": []
          }
        }
      ]
    },
    {
      "cell_type": "code",
      "metadata": {
        "id": "xQHpqNyAH8-2"
      },
      "source": [
        "df.drop(['Date'],1,inplace=True)\n",
        "df['Price'] = pd.to_numeric(df['Price'].str.replace(\",\", \"\"), errors='coerce')"
      ],
      "execution_count": null,
      "outputs": []
    },
    {
      "cell_type": "code",
      "metadata": {
        "id": "EHINBF5SIgqG"
      },
      "source": [
        "# A variable for predicting 'n' days out into the future\n",
        "prediction_days = 14\n",
        "\n",
        "# Create another column shifted 'n' units up\n",
        "df['Prediction'] = df[['Price']].shift(-prediction_days)"
      ],
      "execution_count": null,
      "outputs": []
    },
    {
      "cell_type": "code",
      "metadata": {
        "colab": {
          "base_uri": "https://localhost:8080/",
          "height": 419
        },
        "id": "tFxOscK-JQQM",
        "outputId": "bc7b8f91-1e9d-446b-84da-c4a9af532060"
      },
      "source": [
        "df"
      ],
      "execution_count": null,
      "outputs": [
        {
          "output_type": "execute_result",
          "data": {
            "text/html": [
              "<div>\n",
              "<style scoped>\n",
              "    .dataframe tbody tr th:only-of-type {\n",
              "        vertical-align: middle;\n",
              "    }\n",
              "\n",
              "    .dataframe tbody tr th {\n",
              "        vertical-align: top;\n",
              "    }\n",
              "\n",
              "    .dataframe thead th {\n",
              "        text-align: right;\n",
              "    }\n",
              "</style>\n",
              "<table border=\"1\" class=\"dataframe\">\n",
              "  <thead>\n",
              "    <tr style=\"text-align: right;\">\n",
              "      <th></th>\n",
              "      <th>Price</th>\n",
              "      <th>Prediction</th>\n",
              "    </tr>\n",
              "  </thead>\n",
              "  <tbody>\n",
              "    <tr>\n",
              "      <th>0</th>\n",
              "      <td>4826.0</td>\n",
              "      <td>6725.1</td>\n",
              "    </tr>\n",
              "    <tr>\n",
              "      <th>1</th>\n",
              "      <td>5584.3</td>\n",
              "      <td>6373.4</td>\n",
              "    </tr>\n",
              "    <tr>\n",
              "      <th>2</th>\n",
              "      <td>5182.7</td>\n",
              "      <td>6233.7</td>\n",
              "    </tr>\n",
              "    <tr>\n",
              "      <th>3</th>\n",
              "      <td>5366.3</td>\n",
              "      <td>5890.4</td>\n",
              "    </tr>\n",
              "    <tr>\n",
              "      <th>4</th>\n",
              "      <td>5030.0</td>\n",
              "      <td>6391.0</td>\n",
              "    </tr>\n",
              "    <tr>\n",
              "      <th>...</th>\n",
              "      <td>...</td>\n",
              "      <td>...</td>\n",
              "    </tr>\n",
              "    <tr>\n",
              "      <th>385</th>\n",
              "      <td>58718.3</td>\n",
              "      <td>NaN</td>\n",
              "    </tr>\n",
              "    <tr>\n",
              "      <th>386</th>\n",
              "      <td>58977.3</td>\n",
              "      <td>NaN</td>\n",
              "    </tr>\n",
              "    <tr>\n",
              "      <th>387</th>\n",
              "      <td>57059.9</td>\n",
              "      <td>NaN</td>\n",
              "    </tr>\n",
              "    <tr>\n",
              "      <th>388</th>\n",
              "      <td>58199.9</td>\n",
              "      <td>NaN</td>\n",
              "    </tr>\n",
              "    <tr>\n",
              "      <th>389</th>\n",
              "      <td>58993.4</td>\n",
              "      <td>NaN</td>\n",
              "    </tr>\n",
              "  </tbody>\n",
              "</table>\n",
              "<p>390 rows × 2 columns</p>\n",
              "</div>"
            ],
            "text/plain": [
              "       Price  Prediction\n",
              "0     4826.0      6725.1\n",
              "1     5584.3      6373.4\n",
              "2     5182.7      6233.7\n",
              "3     5366.3      5890.4\n",
              "4     5030.0      6391.0\n",
              "..       ...         ...\n",
              "385  58718.3         NaN\n",
              "386  58977.3         NaN\n",
              "387  57059.9         NaN\n",
              "388  58199.9         NaN\n",
              "389  58993.4         NaN\n",
              "\n",
              "[390 rows x 2 columns]"
            ]
          },
          "metadata": {
            "tags": []
          },
          "execution_count": 11
        }
      ]
    },
    {
      "cell_type": "code",
      "metadata": {
        "colab": {
          "base_uri": "https://localhost:8080/",
          "height": 298
        },
        "id": "viVAM2PdOgi1",
        "outputId": "5e30e230-6384-4f70-e4e8-94a8a743b6a7"
      },
      "source": [
        "df['Price'].plot()\n",
        "plt.title('Bitcoin History Data')\n",
        "plt.ylabel('Price')"
      ],
      "execution_count": null,
      "outputs": [
        {
          "output_type": "execute_result",
          "data": {
            "text/plain": [
              "Text(0, 0.5, 'Price')"
            ]
          },
          "metadata": {
            "tags": []
          },
          "execution_count": 12
        },
        {
          "output_type": "display_data",
          "data": {
            "image/png": "[encoded data removed]",
            "text/plain": [
              "<Figure size 432x288 with 1 Axes>"
            ]
          },
          "metadata": {
            "tags": [],
            "needs_background": "light"
          }
        }
      ]
    },
    {
      "cell_type": "code",
      "metadata": {
        "id": "lCQGbijiKB8a"
      },
      "source": [
        "# Create the independent data set\n",
        "# Convert the dataframe to numpy array and drop the prediction column\n",
        "X = np.array(df.drop(['Prediction'], 1))\n",
        "\n",
        "# Remove last n rows, where n rows is the prediction_days\n",
        "X = X[:len(df)-prediction_days]\n",
        "\n",
        "# print(X)"
      ],
      "execution_count": null,
      "outputs": []
    },
    {
      "cell_type": "code",
      "metadata": {
        "colab": {
          "base_uri": "https://localhost:8080/"
        },
        "id": "MJf3-2BmK4Hh",
        "outputId": "3f369f15-c829-4433-9c75-00fa2d9b3913"
      },
      "source": [
        "# Create dependent data set\n",
        "# Convert the data frame into a numpy array\n",
        "y = np.array(df['Prediction'])\n",
        "\n",
        "# Get all of the values except last n values\n",
        "y = y[:-prediction_days]\n",
        "print(y)"
      ],
      "execution_count": null,
      "outputs": [
        {
          "output_type": "stream",
          "text": [
            "[ 6725.1  6373.4  6233.7  5890.4  6391.   6412.5  6638.5  6800.5  6735.9\n",
            "  6857.4  6772.7  7332.3  7185.2  7361.2  7289.   6863.1  6867.8  6917.6\n",
            "  6841.3  6850.9  6629.1  7085.6  7035.8  7230.8  7122.9  6833.5  6842.5\n",
            "  7112.9  7488.5  7503.8  7540.4  7678.9  7766.   7746.9  8770.9  8629.\n",
            "  8821.6  8966.3  8885.5  8874.7  9001.   9151.4  9979.8  9806.2  9554.6\n",
            "  8738.8  8579.8  8813.8  9298.7  9778.4  9318.   9379.5  9677.7  9730.7\n",
            "  9773.3  9512.3  9059.   9169.7  9177.   8728.2  8898.2  8842.5  9199.1\n",
            "  9572.2  9424.8  9692.5  9454.8 10189.3  9527.6  9667.2  9794.4  9631.2\n",
            "  9669.6  9742.6  9777.9  9768.8  9878.8  9283.2  9466.6  9471.3  9345.3\n",
            "  9425.4  9523.5  9464.6  9388.1  9314.   9358.8  9296.4  9683.7  9624.6\n",
            "  9302.   9247.5  9160.   9008.3  9124.   9185.4  9135.4  9229.9  9085.1\n",
            "  9067.1  9134.4  9081.   9339.   9256.   9429.9  9235.7  9285.1  9233.3\n",
            "  9300.8  9243.6  9253.4  9198.7  9135.3  9155.8  9170.2  9208.   9162.4\n",
            "  9387.3  9513.7  9599.6  9546.4  9704.1  9932.5 11022.8 10908.5 11105.9\n",
            " 11096.2 11333.4 11803.1 11066.8 11224.4 11184.7 11735.1 11757.1 11592.\n",
            " 11764.3 11681.2 11889.2 11390.4 11557.2 11770.9 11750.8 11845.3 11899.\n",
            " 12282.6 11947.6 11750.2 11856.9 11529.2 11661.3 11641.6 11753.5 11324.8\n",
            " 11462.3 11327.4 11527.4 11468.1 11702.  11644.2 11914.9 11413.3 10168.8\n",
            " 10472.5 10092.2 10296.4 10376.9 10126.6 10224.6 10339.7 10390.2 10441.9\n",
            " 10326.  10675.3 10785.3 10949.5 10941.3 10933.  11081.8 10921.5 10416.8\n",
            " 10531.5 10237.3 10739.4 10688.8 10727.9 10776.2 10693.2 10840.9 10776.1\n",
            " 10620.5 10572.3 10544.2 10672.9 10789.5 10602.6 10670.9 10924.1 11054.2\n",
            " 11298.4 11371.  11533.9 11423.8 11420.4 11503.  11322.  11362.1 11506.9\n",
            " 11753.4 11913.5 12808.7 12974.6 12934.1 13117.2 13032.2 13061.6 13657.8\n",
            " 13278.9 13457.2 13559.9 13797.3 13759.4 13561.4 14019.9 14145.6 15587.1\n",
            " 15577.9 14828.4 15483.7 15327.2 15303.6 15695.8 16294.7 16324.2 16071.\n",
            " 15953.  16715.8 17662.3 17774.6 17803.5 18675.2 18687.2 18412.9 18379.6\n",
            " 19152.6 18723.  17162.  17127.1 17730.7 18185.5 19698.1 18770.7 19218.8\n",
            " 19433.3 18658.1 19146.5 19379.9 19170.7 18326.6 18546.  18247.2 18023.6\n",
            " 18808.9 19176.8 19273.8 19434.9 21352.2 22825.4 23127.9 23844.  23474.9\n",
            " 22728.5 23823.2 23257.9 23736.5 24689.6 26454.4 26261.3 27057.8 27376.\n",
            " 28868.7 28949.4 29359.9 32193.3 32958.9 32022.6 33991.5 36793.2 39460.2\n",
            " 40599.3 40151.9 38192.2 35544.3 34076.1 37382.2 39175.7 36845.8 36019.5\n",
            " 35839.6 36613.2 36002.9 35476.3 30842.1 33000.5 32088.9 32241.3 32252.3\n",
            " 32502.1 30404.  33374.8 34301.8 34283.1 33108.1 33515.7 35485.2 37646.8\n",
            " 36982.1 38297.6 39256.6 38852.9 46395.7 46508.6 44836.  47990.7 47371.7\n",
            " 47168.7 48643.4 47936.3 49169.7 52079.2 51582.2 55906.6 55923.7 57433.8\n",
            " 54111.8 48911.2 49697.5 46928.5 46345.6 46136.7 45164.  49595.5 48424.2\n",
            " 50395.1 48428.  48792.5 48855.6 50982.3 52311.  54879.  55851.9 57799.5\n",
            " 57265.1 61195.3 59113.7 55791.3 56889.7 58913.5 57656.  58088.  58093.4\n",
            " 57383.8 54158.3 54452.5 52325.4 51322.3 55036.1 55862.9 55765.2 57616.2\n",
            " 58771.3 58763.7 58718.3 58977.3 57059.9 58199.9 58993.4]\n"
          ],
          "name": "stdout"
        }
      ]
    },
    {
      "cell_type": "code",
      "metadata": {
        "colab": {
          "base_uri": "https://localhost:8080/",
          "height": 282
        },
        "id": "L40bzuKHeDsE",
        "outputId": "8d29fc2b-1fe0-497f-e419-4da2c331b5d5"
      },
      "source": [
        "def smooth(y, b):\n",
        "  box = np.ones(b)/b\n",
        "  y_smooth = np.convolve(y, box, mode= 'same')\n",
        "  return y_smooth\n",
        "\n",
        "plt.plot(X, y,'+')\n",
        "plt.plot(X, smooth(y, 3), 'b')\n",
        "plt.plot(X, smooth(y, 10), 'r-')"
      ],
      "execution_count": null,
      "outputs": [
        {
          "output_type": "execute_result",
          "data": {
            "text/plain": [
              "[<matplotlib.lines.Line2D at 0x7f4723a2c810>]"
            ]
          },
          "metadata": {
            "tags": []
          },
          "execution_count": 43
        },
        {
          "output_type": "display_data",
          "data": {
            "image/png": "[encoded data removed]",
            "text/plain": [
              "<Figure size 432x288 with 1 Axes>"
            ]
          },
          "metadata": {
            "tags": [],
            "needs_background": "light"
          }
        }
      ]
    },
    {
      "cell_type": "code",
      "metadata": {
        "colab": {
          "base_uri": "https://localhost:8080/",
          "height": 374
        },
        "id": "B5wPb-YbeX9a",
        "outputId": "03217f01-61e1-4824-ae33-8e354382a841"
      },
      "source": [
        "# !pip install tsmoothie\n",
        "from tsmoothie.smoother import *\n",
        "\n",
        "# operate smoothing\n",
        "smoother = ConvolutionSmoother(window_len=10, window_type='ones')\n",
        "smoother.smooth(y)\n",
        "\n",
        "# generate intervals\n",
        "low, up = smoother.get_intervals('sigma_interval', n_sigma=2)\n",
        "\n",
        "# plot the smoothed timeseries with intervals\n",
        "plt.figure(figsize=(11,6))\n",
        "plt.plot(smoother.smooth_data[0], linewidth=2, color='red')\n",
        "plt.plot(smoother.data[0], '.k')\n",
        "plt.fill_between(range(len(smoother.data[0])), low[0], up[0], alpha=0.9);"
      ],
      "execution_count": null,
      "outputs": [
        {
          "output_type": "display_data",
          "data": {
            "image/png": "[encoded data removed]",
            "text/plain": [
              "<Figure size 792x432 with 1 Axes>"
            ]
          },
          "metadata": {
            "tags": [],
            "needs_background": "light"
          }
        }
      ]
    },
    {
      "cell_type": "code",
      "metadata": {
        "id": "ROdwg0uZJzkh"
      },
      "source": [
        "# Spliting the dataset into 80% training and 20% testing\n",
        "from sklearn.model_selection import train_test_split\n",
        "\n",
        "X_train, x_test, y_train, y_test = train_test_split(X,y, test_size = 0.2)"
      ],
      "execution_count": null,
      "outputs": []
    },
    {
      "cell_type": "code",
      "metadata": {
        "id": "Hxh0xx5QRxyl"
      },
      "source": [
        "# from sklearn.preprocessing import StandardScaler\n",
        "# scaler = StandardScaler()\n",
        "# scaler.fit(X_train)\n",
        "\n",
        "# X_train = scaler.transform(X_train)\n",
        "# x_test = scaler.transform(x_test)"
      ],
      "execution_count": null,
      "outputs": []
    },
    {
      "cell_type": "code",
      "metadata": {
        "colab": {
          "base_uri": "https://localhost:8080/"
        },
        "id": "35C01SYTLyMh",
        "outputId": "9a9b1230-5ec9-4253-e692-dc3e2cb4ad2c"
      },
      "source": [
        "# Set the prediction_days_array equal to the last n from the original dataset\n",
        "prediction_days_array = np.array(df.drop(['Prediction'], 1))[-prediction_days:]\n",
        "print(prediction_days_array)"
      ],
      "execution_count": null,
      "outputs": [
        {
          "output_type": "stream",
          "text": [
            "[[54452.5]\n",
            " [52325.4]\n",
            " [51322.3]\n",
            " [55036.1]\n",
            " [55862.9]\n",
            " [55765.2]\n",
            " [57616.2]\n",
            " [58771.3]\n",
            " [58763.7]\n",
            " [58718.3]\n",
            " [58977.3]\n",
            " [57059.9]\n",
            " [58199.9]\n",
            " [58993.4]]\n"
          ],
          "name": "stdout"
        }
      ]
    },
    {
      "cell_type": "code",
      "metadata": {
        "colab": {
          "base_uri": "https://localhost:8080/",
          "height": 312
        },
        "id": "ukjcytqFgqZR",
        "outputId": "9c43fb3c-4e25-412c-84dc-cdbbca7955a5"
      },
      "source": [
        "plt.plot(prediction_days_array,color='blue')\n",
        "plt.title(\"Bitcoin Price Prediction for further 14 Days\")\n",
        "plt.xlabel('Days')\n",
        "plt.ylabel('Price')"
      ],
      "execution_count": null,
      "outputs": [
        {
          "output_type": "execute_result",
          "data": {
            "text/plain": [
              "Text(0, 0.5, 'Price')"
            ]
          },
          "metadata": {
            "tags": []
          },
          "execution_count": 57
        },
        {
          "output_type": "display_data",
          "data": {
            "image/png": "[encoded data removed]",
            "text/plain": [
              "<Figure size 432x288 with 1 Axes>"
            ]
          },
          "metadata": {
            "tags": [],
            "needs_background": "light"
          }
        }
      ]
    },
    {
      "cell_type": "markdown",
      "metadata": {
        "id": "rIDuas7DQzfb"
      },
      "source": [
        "Using SVM Model to Find the Accuracy"
      ]
    },
    {
      "cell_type": "code",
      "metadata": {
        "colab": {
          "base_uri": "https://localhost:8080/"
        },
        "id": "5K62rO6eMLeJ",
        "outputId": "0931bec7-8e28-404a-f2bf-1c113589f9e6"
      },
      "source": [
        "from sklearn.svm import SVR\n",
        "\n",
        "# Create and train the Support Vector Machine (Regression) using radial basis function\n",
        "svr_rbf = SVR(kernel='rbf', C=1e4, gamma=0.00001) #poly basis function\n",
        "svr_rbf.fit(X_train, y_train)"
      ],
      "execution_count": null,
      "outputs": [
        {
          "output_type": "execute_result",
          "data": {
            "text/plain": [
              "SVR(C=10000.0, cache_size=200, coef0=0.0, degree=3, epsilon=0.1, gamma=1e-05,\n",
              "    kernel='rbf', max_iter=-1, shrinking=True, tol=0.001, verbose=False)"
            ]
          },
          "metadata": {
            "tags": []
          },
          "execution_count": 18
        }
      ]
    },
    {
      "cell_type": "code",
      "metadata": {
        "colab": {
          "base_uri": "https://localhost:8080/"
        },
        "id": "Fok76MNBM-qT",
        "outputId": "6a03a4b2-4131-43e2-c589-55d28c20a48c"
      },
      "source": [
        "# Test the model\n",
        "svr_rbf_confidence = svr_rbf.score(x_test, y_test)\n",
        "print(\"svr_rbf accuracy: \", svr_rbf_confidence)"
      ],
      "execution_count": null,
      "outputs": [
        {
          "output_type": "stream",
          "text": [
            "svr_rbf accuracy:  0.7673796349330945\n"
          ],
          "name": "stdout"
        }
      ]
    },
    {
      "cell_type": "code",
      "metadata": {
        "colab": {
          "base_uri": "https://localhost:8080/"
        },
        "id": "F2kygEx4OXYs",
        "outputId": "a0509f82-dc14-45b9-e9ad-25c1b68b5ee2"
      },
      "source": [
        "# Print the predict values\n",
        "svm_prediction = svr_rbf.predict(x_test)\n",
        "print(svm_prediction)\n",
        "print(\"\\n\")\n",
        "print(y_test)"
      ],
      "execution_count": null,
      "outputs": [
        {
          "output_type": "stream",
          "text": [
            "[43578.56247723  9301.36557393  9692.16967157 30202.35324561\n",
            "  9659.27914674  9797.24120494 11420.35861347 33258.4979452\n",
            " 25606.97006147 22972.91548084 23189.26958814 20117.90496104\n",
            " 10934.81869662 19451.71892112 16680.43837174  9560.43310955\n",
            " 32616.56906745 30243.6100948  38032.46686349 11468.75956082\n",
            "  9719.57192284  9460.50080088  9640.96967163  9710.46478982\n",
            "  9463.91821199 11859.53499288  9592.35655622 31395.90594203\n",
            " 37864.91116214 11418.87692832  9641.53365901 22473.62359309\n",
            " 30336.95047042 10577.89420017  9456.47142401 42281.27453635\n",
            "  9622.73384949 35212.66681201 10983.39717488  9340.3531879\n",
            " 32818.63425343 31347.35079461  9332.46471043 36994.57722005\n",
            " 12718.17445792 21711.32309638 36143.54971628  9685.74033299\n",
            " 22382.82808227 47758.18255678 34520.17226332 10771.08953998\n",
            " 11470.43521957 37509.98831794  9455.20237552 10841.48002751\n",
            "  9752.16800197  9459.85339283 24725.78835773 41918.24100033\n",
            " 42654.01030109 11090.13714361 24206.44150997 11618.16991\n",
            "  9821.61573386  9490.83282557  9339.30934154  9357.23134706\n",
            " 24225.32082491 18693.42163243  9645.84625936 48562.265756\n",
            " 10399.04720573 19988.43687572 24719.9368272   9696.37329497]\n",
            "\n",
            "\n",
            "[46136.7  9742.6 11333.4  6725.1  9243.6  9379.5 11371.  51582.2 11644.2\n",
            " 18770.7 19170.7 18658.1  9059.  26454.4  6233.7  9296.4 57433.8 18687.2\n",
            " 58763.7 10924.1  9300.8  9199.1  9878.8  9253.4  9339.  11702.   9198.7\n",
            " 54452.5 47168.7 10472.5 11105.9 18808.9 36793.2 10921.5  9932.5 58718.3\n",
            "  6373.4 34301.8 10933.   7112.9 55923.7 36002.9  9185.4 39256.6  6412.5\n",
            " 23257.9 40151.9  9572.2 19218.8 57616.2 33515.7 10789.5 13278.9 39175.7\n",
            "  9318.   8813.8  9554.6  9454.8  6391.  55791.3 51322.3 11081.8 27057.8\n",
            " 13032.2  9169.7  9247.5 11184.7  9008.3 21352.2 17803.5  9730.7 48855.6\n",
            "  9778.4 19146.5 19176.8  9512.3]\n"
          ],
          "name": "stdout"
        }
      ]
    },
    {
      "cell_type": "code",
      "metadata": {
        "colab": {
          "base_uri": "https://localhost:8080/"
        },
        "id": "LfkWTMhROozV",
        "outputId": "90f628a8-9b7c-4b3c-c5f8-ddcc4aa9c6fa"
      },
      "source": [
        "# Print model predictions for next n days\n",
        "svm_prediction = svr_rbf.predict(prediction_days_array)\n",
        "\n",
        "print(svm_prediction)\n",
        "# Print the actual price for Bitcoin for last n days\n",
        "# print(df.tail(prediction_days))"
      ],
      "execution_count": null,
      "outputs": [
        {
          "output_type": "stream",
          "text": [
            "[38652.37709901 46785.358798   39583.12030744 31334.95779383\n",
            " 48927.64584195 46953.47901086 43363.50765607 34602.74436857\n",
            " 34465.12509753 33795.47854112 39621.69988651 49260.64610502\n",
            " 49083.7718949  39970.08095192]\n",
            "\n",
            "\n"
          ],
          "name": "stdout"
        }
      ]
    },
    {
      "cell_type": "code",
      "metadata": {
        "colab": {
          "base_uri": "https://localhost:8080/",
          "height": 312
        },
        "id": "0kg4z48YfTD4",
        "outputId": "ee5093a9-082f-482f-cde5-50b1c6f6b9d4"
      },
      "source": [
        "plt.plot(svm_prediction,color='blue')\n",
        "plt.title(\"Bitcoin Price Prediction for further 14 Days\")\n",
        "plt.xlabel('Days')\n",
        "plt.ylabel('Price')"
      ],
      "execution_count": null,
      "outputs": [
        {
          "output_type": "execute_result",
          "data": {
            "text/plain": [
              "Text(0, 0.5, 'Price')"
            ]
          },
          "metadata": {
            "tags": []
          },
          "execution_count": 56
        },
        {
          "output_type": "display_data",
          "data": {
            "image/png": "[encoded data removed]",
            "text/plain": [
              "<Figure size 432x288 with 1 Axes>"
            ]
          },
          "metadata": {
            "tags": [],
            "needs_background": "light"
          }
        }
      ]
    },
    {
      "cell_type": "markdown",
      "metadata": {
        "id": "9RsalkGFVtnj"
      },
      "source": [
        "Using Kernel Ridge Regression \n",
        "\n"
      ]
    },
    {
      "cell_type": "code",
      "metadata": {
        "colab": {
          "base_uri": "https://localhost:8080/"
        },
        "id": "yQWN1e4lSSa1",
        "outputId": "e2b4349f-7cf6-42e7-e573-a9f882d98531"
      },
      "source": [
        "from sklearn.kernel_ridge import KernelRidge\n",
        "krr = KernelRidge(kernel=\"linear\", alpha=1.0)\n",
        "krr.fit(X_train, y_train)\n",
        "y_pred = krr.predict(x_test)\n",
        "\n",
        "# Test the model\n",
        "krr_score = krr.score(x_test, y_test)\n",
        "print(\"Kernel Ridge Regression Accuracy\",krr_score)"
      ],
      "execution_count": null,
      "outputs": [
        {
          "output_type": "stream",
          "text": [
            "Kernel Ridge Regression Accuracy 0.9244254970234304\n"
          ],
          "name": "stdout"
        }
      ]
    },
    {
      "cell_type": "code",
      "metadata": {
        "colab": {
          "base_uri": "https://localhost:8080/"
        },
        "id": "E1vEg_pQdM4n",
        "outputId": "40c700e4-0bcf-448b-dac2-1a233ccc2541"
      },
      "source": [
        "krr_prediction = krr.predict(prediction_days_array)\n",
        "\n",
        "print(krr_prediction)"
      ],
      "execution_count": null,
      "outputs": [
        {
          "output_type": "stream",
          "text": [
            "[59144.921875 56834.5      55745.078125 59778.765625 60676.890625\n",
            " 60570.78125  62581.25     63835.90625  63827.640625 63778.265625\n",
            " 64059.625    61976.984375 63215.28125  64077.25    ]\n"
          ],
          "name": "stdout"
        }
      ]
    },
    {
      "cell_type": "code",
      "metadata": {
        "colab": {
          "base_uri": "https://localhost:8080/",
          "height": 312
        },
        "id": "YF9c05LDfQFx",
        "outputId": "8b0a307c-3b82-4d92-864d-f741d436fb14"
      },
      "source": [
        "plt.plot(krr_prediction,color='blue')\n",
        "plt.title(\"Bitcoin Price Prediction for further 14 Days\")\n",
        "plt.xlabel('Days')\n",
        "plt.ylabel('Price')"
      ],
      "execution_count": null,
      "outputs": [
        {
          "output_type": "execute_result",
          "data": {
            "text/plain": [
              "Text(0, 0.5, 'Price')"
            ]
          },
          "metadata": {
            "tags": []
          },
          "execution_count": 55
        },
        {
          "output_type": "display_data",
          "data": {
            "image/png": "[encoded data removed]",
            "text/plain": [
              "<Figure size 432x288 with 1 Axes>"
            ]
          },
          "metadata": {
            "tags": [],
            "needs_background": "light"
          }
        }
      ]
    },
    {
      "cell_type": "markdown",
      "metadata": {
        "id": "rTW10k2kYs_r"
      },
      "source": [
        "Using Gaussian Process Regression"
      ]
    },
    {
      "cell_type": "code",
      "metadata": {
        "colab": {
          "base_uri": "https://localhost:8080/"
        },
        "id": "r1K58lOtX7iT",
        "outputId": "58088892-f7de-4f38-99c6-c08bf095f12f"
      },
      "source": [
        "from sklearn.gaussian_process import GaussianProcessRegressor\n",
        "from sklearn.gaussian_process.kernels import DotProduct, WhiteKernel\n",
        "\n",
        "kernel = DotProduct() + WhiteKernel()\n",
        "gpr = GaussianProcessRegressor(kernel=kernel).fit(X_train, y_train)\n",
        "GPR_Results = gpr.score(x_test, y_test)\n",
        "print(\"GPR Accuracy\",GPR_Results)"
      ],
      "execution_count": null,
      "outputs": [
        {
          "output_type": "stream",
          "text": [
            "GPR Accuracy 0.925741779093635\n"
          ],
          "name": "stdout"
        }
      ]
    },
    {
      "cell_type": "code",
      "metadata": {
        "colab": {
          "base_uri": "https://localhost:8080/"
        },
        "id": "eTlOp3maYxqO",
        "outputId": "a9a92531-55fc-4842-d3ee-70a3aa16fd01"
      },
      "source": [
        "gpr_prediction = gpr.predict(prediction_days_array)\n",
        "\n",
        "print(gpr_prediction)"
      ],
      "execution_count": null,
      "outputs": [
        {
          "output_type": "stream",
          "text": [
            "[58585.7215147  56323.71031475 55256.98875141 59206.33631134\n",
            " 60085.57605934 59981.67944622 61950.07901859 63178.44116592\n",
            " 63170.35914135 63122.07965279 63397.50671005 61358.49571705\n",
            " 62570.80016327 63414.62785149]\n"
          ],
          "name": "stdout"
        }
      ]
    },
    {
      "cell_type": "code",
      "metadata": {
        "colab": {
          "base_uri": "https://localhost:8080/",
          "height": 295
        },
        "id": "l1EoFlPbdWcD",
        "outputId": "26c89928-77af-4fe4-b0f8-0c808a208a2b"
      },
      "source": [
        "plt.plot(gpr_prediction,color='blue')\n",
        "plt.title(\"Bitcoin Price Prediction for further 14 Days\")\n",
        "plt.xlabel('Days')\n",
        "plt.ylabel('Price')"
      ],
      "execution_count": null,
      "outputs": [
        {
          "output_type": "display_data",
          "data": {
            "image/png": "[encoded data removed]",
            "text/plain": [
              "<Figure size 432x288 with 1 Axes>"
            ]
          },
          "metadata": {
            "tags": [],
            "needs_background": "light"
          }
        }
      ]
    },
    {
      "cell_type": "markdown",
      "metadata": {
        "id": "3FG1ZnD1Q-f4"
      },
      "source": [
        "Using KNN Regression to find the accuracy"
      ]
    },
    {
      "cell_type": "code",
      "metadata": {
        "id": "CepC6xdoPKEG",
        "colab": {
          "base_uri": "https://localhost:8080/"
        },
        "outputId": "2226d2a7-2503-4c29-a314-a98faa993930"
      },
      "source": [
        "# !pip install mglearn\n",
        "import mglearn\n",
        "from sklearn.neighbors import KNeighborsRegressor\n",
        "from sklearn.metrics import mean_squared_error\n",
        "\n",
        "X, y = mglearn.datasets.make_wave(n_samples=40)\n",
        "# split the wave dataset into a training and a test set\n",
        "X_train, X_test, y_train, y_test = train_test_split(X, y, random_state=0)\n",
        "\n",
        "reg = KNeighborsRegressor(n_neighbors=5)\n",
        "reg.fit(X_train, y_train)"
      ],
      "execution_count": null,
      "outputs": [
        {
          "output_type": "execute_result",
          "data": {
            "text/plain": [
              "KNeighborsRegressor(algorithm='auto', leaf_size=30, metric='minkowski',\n",
              "                    metric_params=None, n_jobs=None, n_neighbors=5, p=2,\n",
              "                    weights='uniform')"
            ]
          },
          "metadata": {
            "tags": []
          },
          "execution_count": 50
        }
      ]
    },
    {
      "cell_type": "code",
      "metadata": {
        "colab": {
          "base_uri": "https://localhost:8080/"
        },
        "id": "LLOy7FNaRdZW",
        "outputId": "81cd53d6-0cda-4f1a-c8f1-d682d263623c"
      },
      "source": [
        "y_pred=reg.predict(X_test)\n",
        "print(y_pred)"
      ],
      "execution_count": null,
      "outputs": [
        {
          "output_type": "stream",
          "text": [
            "[-0.31560601  0.15952474  1.02677816 -1.69801095 -1.40261905 -1.77581224\n",
            "  0.24824413  0.99712017 -0.10897279 -1.40261905]\n"
          ],
          "name": "stdout"
        }
      ]
    },
    {
      "cell_type": "markdown",
      "metadata": {
        "id": "q-g0-VLmgVCl"
      },
      "source": [
        "Reference:\n",
        "\n",
        "\n",
        "1.   https://randerson112358.medium.com/build-a-bitcoin-price-prediction-program-using-machine-learning-and-python-89f3dc6cb3b1\n",
        "\n"
      ]
    }
  ]
}